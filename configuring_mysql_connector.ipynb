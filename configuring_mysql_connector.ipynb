{
 "cells": [
  {
   "cell_type": "code",
   "execution_count": 1,
   "id": "334ee982-c779-4989-a26b-caecd14745ed",
   "metadata": {},
   "outputs": [
    {
     "name": "stdout",
     "output_type": "stream",
     "text": [
      "Requirement already satisfied: mysql-connector-python in /Users/davidjacques/.pyenv/versions/3.10.3/lib/python3.10/site-packages (8.2.0)\n",
      "Requirement already satisfied: protobuf<=4.21.12,>=4.21.1 in /Users/davidjacques/.pyenv/versions/3.10.3/lib/python3.10/site-packages (from mysql-connector-python) (4.21.12)\n"
     ]
    }
   ],
   "source": [
    "!pip install mysql-connector-python"
   ]
  },
  {
   "cell_type": "code",
   "execution_count": 6,
   "id": "0f4cb309-f80b-476a-bece-e9775dc9c16f",
   "metadata": {},
   "outputs": [],
   "source": [
    "import mysql.connector as connector\n"
   ]
  },
  {
   "cell_type": "code",
   "execution_count": null,
   "id": "4ede8189-20c3-4938-89ff-d5b9fb2e854b",
   "metadata": {},
   "outputs": [],
   "source": []
  },
  {
   "cell_type": "code",
   "execution_count": 8,
   "id": "c7bfd5f0-433a-4300-99f5-414be3d1c697",
   "metadata": {},
   "outputs": [
    {
     "name": "stdout",
     "output_type": "stream",
     "text": [
      "global_superstore\n",
      "information_schema\n",
      "little_lemon_db\n",
      "little_lemon_db1\n",
      "LittleLemonDB\n",
      "mg_schema\n",
      "mysql\n",
      "performance_schema\n",
      "sys\n",
      "TESTLAND\n"
     ]
    }
   ],
   "source": [
    "import mysql.connector\n",
    "\n",
    "# Connect to the MySQL server\n",
    "connection = mysql.connector.connect(\n",
    "    host='127.0.0.1',\n",
    "    port=3306,\n",
    "    user='johnsmith',\n",
    "    password='Databaseadmin123!'\n",
    ")\n",
    "\n",
    "# Create a cursor object\n",
    "cursor = connection.cursor()\n",
    "\n",
    "# Execute the 'SHOW DATABASES' command\n",
    "cursor.execute(\"SHOW DATABASES\")\n",
    "\n",
    "# Fetch all the databases\n",
    "databases = cursor.fetchall()\n",
    "\n",
    "# Print the list of databases\n",
    "for db in databases:\n",
    "    print(db[0])\n",
    "\n",
    "# Close the cursor and connection\n",
    "cursor.close()\n",
    "connection.close()\n"
   ]
  },
  {
   "cell_type": "code",
   "execution_count": 22,
   "id": "f388780b-161c-43b7-87ee-fb2e27091f54",
   "metadata": {},
   "outputs": [],
   "source": [
    "import mysql.connector\n",
    "\n",
    "# Connect to the MySQL server\n",
    "connection = mysql.connector.connect(\n",
    "    host='127.0.0.1',\n",
    "    port=3306,\n",
    "    user='johnsmith',\n",
    "    password='Databaseadmin123!',\n",
    "    db='LittleLemonDB'\n",
    ")\n",
    "\n",
    "cursor = connection.cursor()\n",
    "# display_tables = \"SHOW tables\"\n",
    "# cursor.execute(display_tables)\n",
    "\n"
   ]
  },
  {
   "cell_type": "code",
   "execution_count": 16,
   "id": "71650148-47c6-45c4-ba0a-2690f15c491f",
   "metadata": {},
   "outputs": [
    {
     "name": "stdout",
     "output_type": "stream",
     "text": [
      "[('ascorders',), ('Bookings',), ('Customers',), ('Delivery',), ('Menu',), ('MenuItem',), ('Orders',), ('ordersview',), ('popular',), ('Staff',)]\n"
     ]
    },
    {
     "data": {
      "text/plain": [
       "True"
      ]
     },
     "execution_count": 16,
     "metadata": {},
     "output_type": "execute_result"
    }
   ],
   "source": [
    "results = []\n",
    "for i in cursor:\n",
    "    results.append(i)\n",
    "\n",
    "\n",
    "print(results)\n",
    "cursor.close()"
   ]
  },
  {
   "cell_type": "code",
   "execution_count": 23,
   "id": "e200c6a3-40b1-4414-833f-0602613d4322",
   "metadata": {},
   "outputs": [
    {
     "name": "stdout",
     "output_type": "stream",
     "text": [
      "('John Doe', 'john.doe@example.com', '1234567890', Decimal('70'))\n",
      "('Jane Smith', 'jane.smith@example.com', '2345678901', Decimal('80'))\n",
      "('Alice Johnson', 'alice.johnson@example.com', '3456789012', Decimal('90'))\n",
      "('Michael Brown', 'michael.brown@example.com', '4567890123', Decimal('85'))\n",
      "('Emily White', 'emily.white@example.com', '5678901234', Decimal('95'))\n"
     ]
    }
   ],
   "source": [
    "# Need to return Full Name of customer of orders over $70 and their contact info\n",
    "filter_70 = \"\"\"SELECT Customers.customer_name, Customers.email, Customers.phone, Orders.total_cost\n",
    " FROM Orders LEFT JOIN Customers ON Customers.customer_id = Orders.customer_id WHERE Orders.total_cost>=70\"\"\"\n",
    "cursor.execute(filter_70)\n",
    "\n",
    "for i in cursor:\n",
    "    print(i)"
   ]
  },
  {
   "cell_type": "code",
   "execution_count": null,
   "id": "c92a7dad-1b1e-4d5c-a96a-ddf08ad7fa64",
   "metadata": {},
   "outputs": [],
   "source": []
  },
  {
   "cell_type": "code",
   "execution_count": null,
   "id": "1f716181-09b8-48b9-b07e-6deb43d812d6",
   "metadata": {},
   "outputs": [],
   "source": []
  }
 ],
 "metadata": {
  "kernelspec": {
   "display_name": "Python 3 (ipykernel)",
   "language": "python",
   "name": "python3"
  },
  "language_info": {
   "codemirror_mode": {
    "name": "ipython",
    "version": 3
   },
   "file_extension": ".py",
   "mimetype": "text/x-python",
   "name": "python",
   "nbconvert_exporter": "python",
   "pygments_lexer": "ipython3",
   "version": "3.10.3"
  }
 },
 "nbformat": 4,
 "nbformat_minor": 5
}
